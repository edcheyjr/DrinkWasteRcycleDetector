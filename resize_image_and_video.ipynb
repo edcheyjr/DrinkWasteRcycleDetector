{
 "cells": [
  {
   "cell_type": "code",
   "execution_count": 19,
   "id": "5987c7eb",
   "metadata": {},
   "outputs": [],
   "source": [
    "\n",
    "from PIL import Image\n",
    "from natsort import natsorted\n",
    "import glob\n",
    "import os\n",
    "from moviepy.editor import *\n",
    "import cv2\n"
   ]
  },
  {
   "cell_type": "code",
   "execution_count": 9,
   "id": "a9c429d6",
   "metadata": {},
   "outputs": [],
   "source": [
    "imgPath = \"/Users/edwin/Documents/WasteClassfication/*.jpg\"\n",
    "vidPath = \"VID_20211111_204321.mp4\"\n",
    "\n",
    "# img1 = Image.open(imgPath)\n",
    "# print('{}'.format(img1.format))\n",
    "# print('image size {}'.format(img1.size))\n",
    "# print('image mode {}'.format(img1.mode))\n",
    "# img1.show()"
   ]
  },
  {
   "cell_type": "markdown",
   "id": "1336e404",
   "metadata": {},
   "source": [
    "# ASPECT RATIO FUNCTION"
   ]
  },
  {
   "cell_type": "code",
   "execution_count": 66,
   "id": "5eaeba97",
   "metadata": {},
   "outputs": [],
   "source": [
    "#  calculate aspect ratio\n",
    "def aspect_ratio_cal(width, height ,org_width, org_height, aspect_ratio = False):\n",
    "\n",
    "    # nokia aspect ratio\n",
    "    # 19:9\n",
    "   \n",
    "    if(org_width > org_height and aspect_ratio == True):\n",
    "        AR = org_height / org_width\n",
    "        new_height = width *AR\n",
    "        new_width = width\n",
    "    elif(org_width < org_height and aspect_ratio == True):\n",
    "        AR = org_width / org_height\n",
    "        new_width = height *AR \n",
    "        new_height = height\n",
    "    elif(org_width == org_height and aspect_ratio == True):\n",
    "        AR = 1\n",
    "        new_width = height *AR\n",
    "        new_height = height\n",
    "    else:\n",
    "        new_width = width   \n",
    "        new_height = height\n",
    "    return (new_width, new_height)"
   ]
  },
  {
   "cell_type": "markdown",
   "id": "65043ea5",
   "metadata": {},
   "source": [
    "# VIDEO RESIZE"
   ]
  },
  {
   "cell_type": "code",
   "execution_count": 74,
   "id": "42169550",
   "metadata": {},
   "outputs": [],
   "source": [
    "# video resize\n",
    "\n",
    "def video_resize(input_file_path, resized_vid_file_path, width, height,aspect_ratio=True):\n",
    "    clip = VideoFileClip(input_file_path)\n",
    "\n",
    "#  orginal video clip details \n",
    "    org_vcap = cv2.VideoCapture(input_file_path) # 0=camera\n",
    "    # height and width of the video clip\n",
    "    org_height = clip.h\n",
    "    org_width =clip.w\n",
    "\n",
    "    # fps\n",
    "    \n",
    "    if org_vcap.isOpened():\n",
    "        org_fps = org_vcap.get(5) # float `fps`    \n",
    "    print('video height {} and width {} and fps {}'.format(org_height,org_width,org_fps))\n",
    "\n",
    "    # aspect ratio \n",
    "    new_width, new_height = aspect_ratio_cal(width,height,org_width,org_height,aspect_ratio)\n",
    "\n",
    "    print('new width {} and height {}'.format(new_width,new_height))\n",
    "\n",
    "    clip_resized = clip.resize(height=new_height) # make the height 360px ( According to moviePy documenation The width is then computed so that the width/height ratio is conserved.)\n",
    "\n",
    "\n",
    "    # video details\n",
    "    # height and width of the video clip\n",
    "    height = clip_resized.h\n",
    "    width =clip_resized.w\n",
    "\n",
    "    img = cv2.imread('my_image.jpg',0)\n",
    "\n",
    "    clip_resized.write_videofile(resized_vid_file_path)\n",
    "\n",
    "\n",
    "    vcap = cv2.VideoCapture(resized_vid_file_path) # 0=camera\n",
    " \n",
    "    if vcap.isOpened(): \n",
    "    #     # get vcap property \n",
    "    #     # width  = vcap.get(cv2.cv.CV_CAP_PROP_FRAME_WIDTH)   # float `width`\n",
    "    #     # height = vcap.get(cv2.cv.CV_CAP_PROP_FRAME_HEIGHT)  # float `height`\n",
    "    #     # or\n",
    "    #     width  = vcap.get(3)  # float `width`\n",
    "    #     height = vcap.get(4)  # float `height`\n",
    "\n",
    "        # it gives me 0.0 :/\n",
    "        fps = vcap.get(5)  # float `fps`\n",
    "\n",
    "        # fps = vcap.get(cv2.cv.CV_CAP_PROP_FPS)\n",
    "    print('video height {} and width {} and fps {}'.format(height,width,fps))"
   ]
  },
  {
   "cell_type": "code",
   "execution_count": 75,
   "id": "2e5c48ca",
   "metadata": {},
   "outputs": [
    {
     "name": "stdout",
     "output_type": "stream",
     "text": [
      "video height 1080 and width 1920 and fps 19.991798236620873\n",
      "new width 416 and height 234.0\n",
      "Moviepy - Building video VID_20211111_204321_resized.mp4.\n",
      "MoviePy - Writing audio in VID_20211111_204321_resizedTEMP_MPY_wvf_snd.mp3\n"
     ]
    },
    {
     "name": "stderr",
     "output_type": "stream",
     "text": []
    },
    {
     "name": "stdout",
     "output_type": "stream",
     "text": [
      "MoviePy - Done.\n",
      "Moviepy - Writing video VID_20211111_204321_resized.mp4\n",
      "\n"
     ]
    },
    {
     "name": "stderr",
     "output_type": "stream",
     "text": []
    },
    {
     "name": "stdout",
     "output_type": "stream",
     "text": [
      "Moviepy - Done !\n",
      "Moviepy - video ready VID_20211111_204321_resized.mp4\n",
      "video height 234 and width 416 and fps 20.0\n"
     ]
    }
   ],
   "source": [
    "video_resize(vidPath, \"VID_20211111_204321_resized.mp4\",416,416)"
   ]
  },
  {
   "cell_type": "markdown",
   "id": "f4b638ff",
   "metadata": {},
   "source": [
    "# IMAGE RESIZE "
   ]
  },
  {
   "cell_type": "code",
   "execution_count": 122,
   "id": "7a692521",
   "metadata": {},
   "outputs": [],
   "source": [
    "# image resize\n",
    "def image_resize(imgPath, resizePath, width, height, mantain_aspect_ratio = None):\n",
    "# declare list to store images before and after resize\n",
    "    image_list = []\n",
    "    resized_image = []\n",
    "    \n",
    "#    store images in an array \n",
    "    for filename in natsorted(glob.glob(imgPath)):\n",
    "        print(filename) \n",
    "        img = Image.open(filename)\n",
    "        image_size = img.size\n",
    "        image_list.append(img)\n",
    "        image_list = image_list[:10]\n",
    "        \n",
    "#         get image name, size and format\n",
    "    filename_array = filename.split(\"/\")\n",
    "    image_name_with_ext = filename_array[-1]\n",
    "    print(image_name_with_ext)\n",
    "    image_name_arr = image_name_with_ext.split('.')\n",
    "    image_name = image_name_arr[0]\n",
    "    image_format = image_name_arr[1]\n",
    "    (image_width, image_height)=  image_size\n",
    "    \n",
    "#     print result\n",
    "    print('image size {}'.format(image_size))\n",
    "    print('image_width'.format(image_width))\n",
    "    print('image height {}'.format(image_height))\n",
    "    print('image name {}'.format(image_name))\n",
    "    print('image format {}'.format(image_format))\n",
    "#     mantaining aspect ratio\n",
    "    new_width, new_height = aspect_ratio_cal(width, height, image_width, image_height, mantain_aspect_ratio)\n",
    "    \n",
    "#     resize images\n",
    "\n",
    "    for image in image_list:\n",
    "#         image.show()\n",
    "        resized_img = image.resize((int(new_width), int(new_height)))\n",
    "        resized_image.append(resized_img)\n",
    "        \n",
    "    \n",
    "        \n",
    "#     save images into a folder which will be used by detect \n",
    "    for rsz_img in resized_image:\n",
    "        print(rsz_img)\n",
    "        rsz_img.show()\n",
    "        if(image_format.lower() =='png' or 'jpeg'or 'jpg'):\n",
    "            rsz_img.save('{}{}{}{}'.format(resizePath,image_name,'_resized.',image_format))  \n",
    "        else:\n",
    "            print(\"Error: Could not find that image format\")\n",
    "# clear reized image array\n",
    "    resized_image.clear()  \n",
    "\n",
    " "
   ]
  },
  {
   "cell_type": "code",
   "execution_count": 125,
   "id": "db195275",
   "metadata": {},
   "outputs": [
    {
     "name": "stdout",
     "output_type": "stream",
     "text": [
      "/Users/edwin/Documents/WasteClassfication/IMG_20211107_194950.jpg\n",
      "IMG_20211107_194950.jpg\n",
      "image size (4160, 3120)\n",
      "image_width\n",
      "image height 3120\n",
      "image name IMG_20211107_194950\n",
      "image format jpg\n",
      "<PIL.Image.Image image mode=RGB size=416x312 at 0x2DD51C118E0>\n"
     ]
    }
   ],
   "source": [
    "# resize\n",
    "image_resize(imgPath,\"/Users/edwin/Documents/WasteClassfication/\",416, 416, True)"
   ]
  },
  {
   "cell_type": "code",
   "execution_count": null,
   "id": "57244e0e",
   "metadata": {},
   "outputs": [],
   "source": [
    "my_dict = {}\n",
    "my_dict['imagePath'] = 'path'"
   ]
  }
 ],
 "metadata": {
  "kernelspec": {
   "display_name": "Python 3",
   "language": "python",
   "name": "python3"
  },
  "language_info": {
   "codemirror_mode": {
    "name": "ipython",
    "version": 3
   },
   "file_extension": ".py",
   "mimetype": "text/x-python",
   "name": "python",
   "nbconvert_exporter": "python",
   "pygments_lexer": "ipython3",
   "version": "3.9.8"
  }
 },
 "nbformat": 4,
 "nbformat_minor": 5
}
